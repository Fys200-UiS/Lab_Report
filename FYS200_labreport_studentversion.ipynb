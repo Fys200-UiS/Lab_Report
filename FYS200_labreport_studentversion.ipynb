{
 "cells": [
  {
   "cell_type": "markdown",
   "metadata": {},
   "source": [
    "<h1> Fys 200 Laboratory Report </h1>"
   ]
  },
  {
   "cell_type": "markdown",
   "metadata": {},
   "source": [
    "-------------------------------------------------------------------------------------"
   ]
  },
  {
   "cell_type": "markdown",
   "metadata": {},
   "source": [
    "Please insert your academic informations on the cell below, in order to do so you just need to double click on the cell and write down the informations between the right of the keyword and the < br >. Remember to press Shift-enter to run the code! !"
   ]
  },
  {
   "cell_type": "markdown",
   "metadata": {},
   "source": [
    "**First Name** :  <br>\n",
    "**Second Name** : <br>\n",
    "**Date of the Laboratory Experience** : <br>"
   ]
  },
  {
   "cell_type": "markdown",
   "metadata": {},
   "source": [
    "The following commands would initialize all the required modules for the execution of this notebook, possible errors on the execution of these lines may appear when further installations of Python modules are required. <br>  Most of the used modules however, are by default present in any standard installation of the [Anaconda](https://www.anaconda.com/) package. "
   ]
  },
  {
   "cell_type": "code",
   "execution_count": 2,
   "metadata": {},
   "outputs": [],
   "source": [
    "# Importing the modules\n",
    "import numpy as np\n",
    "import pandas as pd\n",
    "from sklearn.linear_model import LinearRegression\n",
    "from sklearn import metrics\n",
    "%matplotlib inline\n",
    "import matplotlib.pyplot as plt\n",
    "\n",
    "# Setting the plot appearance\n",
    "\n",
    "plt.style.use('seaborn-whitegrid')\n",
    "plt.rc('font', size =16)\n",
    "plt.rc('axes', titlesize =16)\n",
    "plt.rc('axes', labelsize =16)\n",
    "plt.rc('xtick', labelsize =16)\n",
    "plt.rc('ytick', labelsize =16)\n",
    "plt.rc('legend', fontsize =16)\n",
    "plt.rc('figure', titlesize =16)"
   ]
  },
  {
   "cell_type": "markdown",
   "metadata": {},
   "source": [
    "---------------------------------------------------------------------------------------"
   ]
  },
  {
   "cell_type": "markdown",
   "metadata": {},
   "source": [
    "<h2> Task 1 - Specific Heat of a Gas </h2>"
   ]
  },
  {
   "cell_type": "markdown",
   "metadata": {},
   "source": [
    "<font color='red'>Please use this cell to describe in few words the task!</font>"
   ]
  },
  {
   "cell_type": "markdown",
   "metadata": {},
   "source": [
    "**Setup Number** : <br>"
   ]
  },
  {
   "cell_type": "markdown",
   "metadata": {},
   "source": [
    "<h3> Measured data for the task  </h3>"
   ]
  },
  {
   "cell_type": "markdown",
   "metadata": {},
   "source": [
    "In this section, you need to report all the values measured in the lab session.\n",
    "The measured values will be asked in the SI units system, even though most of them will be measured in a more appropriate multiple of the asked unit of measure. Consider this part as a good test for your skills in unit conversions!\n",
    "It is recommended to use the exponential notation of python, in order to not generate messy inputs in the next cells and keep an appropriate precision in relation of the performed measurements. In particular, we may express numbers in exponential notation as follows:\n",
    "<br>\n",
    "<br>\n",
    "$\\large 0.0357 \\rightarrow 3.57e-2$\n",
    "<br>\n",
    "$\\large 0.4588 \\rightarrow 4.588e-1 \\; = \\; 45.88e-2$"
   ]
  },
  {
   "cell_type": "markdown",
   "metadata": {},
   "source": [
    "Let's start by writing down the measured value for the _Pressure_ at the time of the experiment, together with its uncertainty :"
   ]
  },
  {
   "cell_type": "code",
   "execution_count": 1,
   "metadata": {},
   "outputs": [
    {
     "ename": "SyntaxError",
     "evalue": "invalid syntax (<ipython-input-1-4fa00f2e16c5>, line 1)",
     "output_type": "error",
     "traceback": [
      "\u001b[1;36m  File \u001b[1;32m\"<ipython-input-1-4fa00f2e16c5>\"\u001b[1;36m, line \u001b[1;32m1\u001b[0m\n\u001b[1;33m    P = # Value of the pressure in Pascal\u001b[0m\n\u001b[1;37m                                         ^\u001b[0m\n\u001b[1;31mSyntaxError\u001b[0m\u001b[1;31m:\u001b[0m invalid syntax\n"
     ]
    }
   ],
   "source": [
    "P = # Value of the pressure in Pascal\n",
    "Delta_P = # Uncertainty on the Pressure measure"
   ]
  },
  {
   "cell_type": "markdown",
   "metadata": {},
   "source": [
    "as well as the _air density_ in standard conditions :"
   ]
  },
  {
   "cell_type": "code",
   "execution_count": 2,
   "metadata": {},
   "outputs": [],
   "source": [
    "Rho =  # Value of the air density in kg/m^3"
   ]
  },
  {
   "cell_type": "markdown",
   "metadata": {},
   "source": [
    "We now have to write down the measured _Frequency_ at the start and at the end of the experiment, along with its uncertainty :"
   ]
  },
  {
   "cell_type": "code",
   "execution_count": 3,
   "metadata": {},
   "outputs": [],
   "source": [
    "F_Start =  # Value of the measured frequency at the start of the experiment in Hertz\n",
    "F_End =  # Value of the measured frequency at the end of the experiment in Hertz\n",
    "Delta_F =  # Uncertainty on the measured Frequency"
   ]
  },
  {
   "cell_type": "markdown",
   "metadata": {},
   "source": [
    "To conclude, we need to report the number of measured points taken during the experiment :"
   ]
  },
  {
   "cell_type": "code",
   "execution_count": 5,
   "metadata": {},
   "outputs": [],
   "source": [
    "n_tot =  # Number of points taken during the experiment"
   ]
  },
  {
   "cell_type": "markdown",
   "metadata": {},
   "source": [
    "which will be saved in an array. This example shows a total of $7$ points recorded, however, if the number of taken points is bigger or smaller you can modify the array as shown in the example :"
   ]
  },
  {
   "cell_type": "code",
   "execution_count": null,
   "metadata": {},
   "outputs": [],
   "source": [
    "DataPoints = np.array([  ,  ,  ,  ,  ,  ,  ]) # Measured distance of the Maxima in m "
   ]
  },
  {
   "cell_type": "markdown",
   "metadata": {},
   "source": [
    "<h3> Data Processing </h3>"
   ]
  },
  {
   "cell_type": "markdown",
   "metadata": {},
   "source": [
    "In this section, the given inputs will be processed by the notebook in order to estimate the variables needed for the determination of the final outputs of the task. <br>\n",
    "Let's start by saving the main inputs in a dataframe :"
   ]
  },
  {
   "cell_type": "code",
   "execution_count": null,
   "metadata": {},
   "outputs": [],
   "source": [
    "d = {'n' : np.arange(n_tot), 'x': DataPoints}\n",
    "Data = pd.DataFrame(data = d)"
   ]
  },
  {
   "cell_type": "markdown",
   "metadata": {},
   "source": [
    "The final dataframe has the following shape :"
   ]
  },
  {
   "cell_type": "code",
   "execution_count": null,
   "metadata": {},
   "outputs": [],
   "source": [
    "Data"
   ]
  },
  {
   "cell_type": "markdown",
   "metadata": {},
   "source": [
    "The data points would start from $n = 0$ rather than $n = 1$ due to the standard python array indexing that start to count from zero.\n",
    "Mathematically talking, this would correspond to a shifting to the left of the plot, in such a way that the new intercept will now be equal to the first measured point $x_1$.\n",
    "Given the line equation, however, as the slope would remain unchanged we may just obtain the original intercept of our plot as $y(-1)$. <br>\n",
    "We may apply a [Linear Regression](https://scikit-learn.org/stable/modules/generated/sklearn.linear_model.LinearRegression.html) to the dataset in order to predict the slope of the linear fit. <br>\n",
    "There are many modules that may easily do that in python, however, is strongly suggested to try to reproduce the notebook results by hand following the standard approach to [Linear Regression using Least Square Estimation](https://www.mathsisfun.com/data/least-squares-regression.html).<br>\n",
    "A notebook implementation may easily be done as follows :"
   ]
  },
  {
   "cell_type": "code",
   "execution_count": 4,
   "metadata": {},
   "outputs": [
    {
     "ename": "NameError",
     "evalue": "name 'Data' is not defined",
     "output_type": "error",
     "traceback": [
      "\u001b[1;31m---------------------------------------------------------------------------\u001b[0m",
      "\u001b[1;31mNameError\u001b[0m                                 Traceback (most recent call last)",
      "\u001b[1;32m<ipython-input-4-34bddb5ea5f6>\u001b[0m in \u001b[0;36m<module>\u001b[1;34m\u001b[0m\n\u001b[0;32m      1\u001b[0m \u001b[1;31m#Let's start by reshaping the arrays in order to be processed by the regression function\u001b[0m\u001b[1;33m\u001b[0m\u001b[1;33m\u001b[0m\u001b[1;33m\u001b[0m\u001b[0m\n\u001b[0;32m      2\u001b[0m \u001b[1;33m\u001b[0m\u001b[0m\n\u001b[1;32m----> 3\u001b[1;33m \u001b[0mN\u001b[0m \u001b[1;33m=\u001b[0m \u001b[0mData\u001b[0m\u001b[1;33m.\u001b[0m\u001b[0miloc\u001b[0m\u001b[1;33m[\u001b[0m\u001b[1;33m:\u001b[0m\u001b[1;33m,\u001b[0m \u001b[1;36m0\u001b[0m\u001b[1;33m]\u001b[0m\u001b[1;33m.\u001b[0m\u001b[0mvalues\u001b[0m\u001b[1;33m.\u001b[0m\u001b[0mreshape\u001b[0m\u001b[1;33m(\u001b[0m\u001b[1;33m-\u001b[0m\u001b[1;36m1\u001b[0m\u001b[1;33m,\u001b[0m \u001b[1;36m1\u001b[0m\u001b[1;33m)\u001b[0m  \u001b[1;31m# reshaping the values of n\u001b[0m\u001b[1;33m\u001b[0m\u001b[1;33m\u001b[0m\u001b[0m\n\u001b[0m\u001b[0;32m      4\u001b[0m \u001b[0mX\u001b[0m \u001b[1;33m=\u001b[0m \u001b[0mData\u001b[0m\u001b[1;33m.\u001b[0m\u001b[0miloc\u001b[0m\u001b[1;33m[\u001b[0m\u001b[1;33m:\u001b[0m\u001b[1;33m,\u001b[0m \u001b[1;36m1\u001b[0m\u001b[1;33m]\u001b[0m\u001b[1;33m.\u001b[0m\u001b[0mvalues\u001b[0m\u001b[1;33m.\u001b[0m\u001b[0mreshape\u001b[0m\u001b[1;33m(\u001b[0m\u001b[1;33m-\u001b[0m\u001b[1;36m1\u001b[0m\u001b[1;33m,\u001b[0m \u001b[1;36m1\u001b[0m\u001b[1;33m)\u001b[0m  \u001b[1;31m# reshaping the values of x\u001b[0m\u001b[1;33m\u001b[0m\u001b[1;33m\u001b[0m\u001b[0m\n\u001b[0;32m      5\u001b[0m \u001b[1;33m\u001b[0m\u001b[0m\n",
      "\u001b[1;31mNameError\u001b[0m: name 'Data' is not defined"
     ]
    }
   ],
   "source": [
    "#Let's start by reshaping the arrays in order to be processed by the regression function\n",
    "\n",
    "N = Data.iloc[:, 0].values.reshape(-1, 1)  # reshaping the values of n\n",
    "X = Data.iloc[:, 1].values.reshape(-1, 1)  # reshaping the values of x\n",
    "\n",
    "# We may finally proceed with the linear fit\n",
    "\n",
    "lin_reg = LinearRegression() # Just creating the object that will hold the informations of the linear regression\n",
    "lin_reg.fit(N,X) # Perform the linear regression\n",
    "Data['Pred_x'] = lin_reg.predict(N) # Saving to the dataframe the predicted values of x given the linear model"
   ]
  },
  {
   "cell_type": "markdown",
   "metadata": {},
   "source": [
    "Here we show a comparison between the measured points and the fit function used to interpolate them :\n"
   ]
  },
  {
   "cell_type": "code",
   "execution_count": null,
   "metadata": {},
   "outputs": [],
   "source": [
    "plt.figure(figsize=(12,8))\n",
    "plt.scatter(Data.n, Data.x, s=20, color = 'black', label = 'Experimental points') # Plotting the measured datapoint\n",
    "plt.plot(Data.n, Data.Pred_x, color = 'crimson', label = 'Fit Function') # Plotting the fitted function of the points\n",
    "plt.ylim(0.,0.25) # Setting the y limit of the plot\n",
    "plt.xlabel('$n$')\n",
    "plt.ylabel('$x_{max}(n) \\quad [m] $')\n",
    "plt.legend(loc = 2)\n"
   ]
  },
  {
   "cell_type": "markdown",
   "metadata": {},
   "source": [
    "The slope and the intercept of the linear model fitted to the data may be get using :"
   ]
  },
  {
   "cell_type": "code",
   "execution_count": null,
   "metadata": {},
   "outputs": [],
   "source": [
    "x_0 = lin_reg.intercept_   # Getting the value of the intercept of the fitted linear model\n",
    "m = lin_reg.coef_          # Getting the value of the slope of the fitted linear model\n",
    "RMSE = np.sqrt(metrics.mean_squared_error(Data.x,Data.Pred_x)) # Estimating the error on the interpolation fit\n"
   ]
  },
  {
   "cell_type": "markdown",
   "metadata": {},
   "source": [
    "We now know from equation _(3)_ of the laboratory manual, that the relation among the position of the _maxima in the amplitude_ $x_{max}$ and the _wavelenght_ $\\lambda$ is given by : <br>\n",
    "<br>\n",
    "$\\large x_{max}(n) \\; = \\frac{\\lambda}{2}n + x_0 . $ <br>\n",
    "<br>\n",
    "Comparing that with the linear model fitted we may observe that given : <br>\n",
    "<br>\n",
    "$\\large x_{pred}(n) \\; = mn + x_0 \\Rightarrow \\lambda = 2m, $ <br>\n",
    "<br>\n",
    "we may hence set :\n"
   ]
  },
  {
   "cell_type": "code",
   "execution_count": null,
   "metadata": {},
   "outputs": [],
   "source": [
    "Lambda = 2*m\n",
    "Delta_Lambda = 2*RMSE\n",
    "print('The estimated value of the wavelenght is equal to : ',float(Lambda), ' +- ',float(Delta_Lambda),' [m]')"
   ]
  },
  {
   "cell_type": "markdown",
   "metadata": {},
   "source": [
    "We may express the _speed of sound_ , using the formula _(4)_ of the laboratory manual, which read as : <br>\n",
    "<br>\n",
    "$\\large v = \\lambda \\nu .$<br>\n",
    "<br>\n",
    "This may be implemented using the measured initial and ending frequency as follows :"
   ]
  },
  {
   "cell_type": "code",
   "execution_count": null,
   "metadata": {
    "scrolled": true
   },
   "outputs": [],
   "source": [
    "v = Lambda*np.average([F_Start,F_End]) # Estimating the speed of sound\n",
    "print('The estimated value for the speed of sound is : ', float(v), ' [m/s]')"
   ]
  },
  {
   "cell_type": "markdown",
   "metadata": {},
   "source": [
    "Given the _speed of sound_ , we may estimate the _adiabatic constant_ $k$ from equation _(1)_ , we may write : <br>\n",
    "<br>\n",
    "$\\large k = \\frac{\\rho v^2}{P}.$ <br>\n",
    "<br>\n",
    "This may be implemented in the code as :"
   ]
  },
  {
   "cell_type": "code",
   "execution_count": null,
   "metadata": {},
   "outputs": [],
   "source": [
    "k = (Rho*v**2)/(P) # Estimating the adiabatic constant\n",
    "print('We obtained the value ',float(k),' for the adiabatic constant !')"
   ]
  },
  {
   "cell_type": "markdown",
   "metadata": {},
   "source": [
    "To conclude, we just have to estimate the _specific heat capacity at constant pressure_ $c_p$ by using the equation _(2)_ :\n",
    "<br>\n",
    "<br>\n",
    "$\\large c_p = R \\frac{k}{k - 1},$ <br>\n",
    "<br>\n",
    "getting :"
   ]
  },
  {
   "cell_type": "code",
   "execution_count": null,
   "metadata": {},
   "outputs": [],
   "source": [
    "R = 2.87e-1 # Gas constant for air in KJ/KgK\n",
    "cp = R*k/(k - 1)\n",
    "print('The estimated value of the specific heat for air is ',float(cp), ' [KJ/Kg K]')"
   ]
  },
  {
   "cell_type": "markdown",
   "metadata": {},
   "source": [
    "<h3> Summary and comments about the task </h3>"
   ]
  },
  {
   "cell_type": "markdown",
   "metadata": {},
   "source": [
    "<font color='red'>Please use this cell to summarize and write down all the comments about this task !</font>"
   ]
  },
  {
   "cell_type": "markdown",
   "metadata": {},
   "source": [
    "<h3> Questions about the Task </h3>"
   ]
  },
  {
   "cell_type": "markdown",
   "metadata": {},
   "source": [
    "<font color='red'>\n",
    "Answer to the following questions, you have to write between the < br > after each question !  \n",
    "</font>"
   ]
  },
  {
   "cell_type": "markdown",
   "metadata": {},
   "source": [
    "<font color='red'>\n",
    "1) Report the obtained value for the <em>wavelenght</em> $\\lambda$, <em>speed of sound</em> $v$, <em>adiabatic constant</em> $k$ and <em>specific heat</em> $c_p$ with the right number of significant figures, as well as their estimated error.\n",
    "    \n",
    "<br>\n",
    "<h4>Note : </h4> The uncertainty on the linearly fitted variable is reported after the linear fit in the notebook !<br>\n",
    "    The others may be estimated manually using the Propagation of Uncertainty<br>\n",
    "<br>\n",
    "$\\lambda =$\n",
    "<br>\n",
    "$v =$\n",
    "<br>\n",
    "$k =$\n",
    "<br>\n",
    "$c_p =$\n",
    "<br>\n",
    "    \n",
    "</font>\n",
    "<em>"
   ]
  },
  {
   "cell_type": "markdown",
   "metadata": {},
   "source": [
    "<font color='red'>\n",
    "2) Estimate the percentual vatiation among estimated value and real value for the <em>speed of sound</em> $v$ and for the <em>specific heat</em> of air and report them !\n",
    "Are they actually in agreement with the values found from the experiment ?\n",
    "(Real values for the quantities may be found online)\n",
    "\n",
    "<br>\n",
    "<br>\n",
    "$\\Delta v \\% =$\n",
    "<br>\n",
    "$\\Delta cp \\%=$\n",
    "<br>\n",
    "</font>"
   ]
  },
  {
   "cell_type": "markdown",
   "metadata": {},
   "source": [
    "<font color='red'>\n",
    "3) Look at the equations you used to estimate the uncertainties on the variables of Question 1)...\n",
    "Which of the involved variables you think that is the one that mostly contribute to the final error on $c_p$    after propagating ?\n",
    "How did you estimated that error and how do you think that your final result may be improved?\n",
    "\n",
    "<br>\n",
    "<br>\n",
    "Write the answer here together with its motivation !\n",
    "</font>"
   ]
  },
  {
   "cell_type": "markdown",
   "metadata": {},
   "source": [
    "-----------------------------------------------------------------------"
   ]
  },
  {
   "cell_type": "markdown",
   "metadata": {},
   "source": [
    "<h2> Task 2 - Viscosity and Pipe flow </h2>"
   ]
  },
  {
   "cell_type": "markdown",
   "metadata": {},
   "source": [
    "<font color='red'>Please use this cell to describe in few words the task!</font>"
   ]
  },
  {
   "cell_type": "markdown",
   "metadata": {},
   "source": [
    "**Setup Number** : <br>"
   ]
  },
  {
   "cell_type": "markdown",
   "metadata": {},
   "source": [
    "<h3> Measured data for the task  </h3>"
   ]
  },
  {
   "cell_type": "markdown",
   "metadata": {},
   "source": [
    "In this section, you need to report all the values coming from the laboratory measurements. <br>\n",
    "The measured values will be asked in the SI units system, even though most of them will be measured in a more appropriate multiple of the asked unit of measure. Consider this part as a good test for your skills in units conversion! <br>\n",
    "It is highly reccomended to report unit of measure using the exponential notation of python, in order to not generate messy inputs in the next cells and keep an appropriate precision in relation of the measurements, in particular, we may express numbers in exponential notations as follows :\n",
    "<br>\n",
    "<br>\n",
    "$\\large 0.0357 \\rightarrow 3.57e-2$\n",
    "<br>\n",
    "$\\large 0.4588 \\rightarrow 4.588e-1 \\; = \\; 45.88e-2$"
   ]
  },
  {
   "cell_type": "markdown",
   "metadata": {},
   "source": [
    "Let's start by reporting the _water temperature_ at the begin and at the end of the experiment :"
   ]
  },
  {
   "cell_type": "code",
   "execution_count": null,
   "metadata": {},
   "outputs": [],
   "source": [
    "T_start =  # Temperature value at the beginning of the experiment in Kelvin scale\n",
    "T_end =  # Temperature value at the end of the experiment in Kelvin scale\n",
    "Delta_T =  # Uncertainty on the temperature taken from the lab notes"
   ]
  },
  {
   "cell_type": "markdown",
   "metadata": {},
   "source": [
    "we now have to report the _lenght of the capillary tube_ , together with its uncertainty: "
   ]
  },
  {
   "cell_type": "code",
   "execution_count": null,
   "metadata": {},
   "outputs": [],
   "source": [
    "L_cap =  #Lenght of the capillary tube in m \n",
    "Delta_L =  #Uncertainty of the capillary tube in m"
   ]
  },
  {
   "cell_type": "markdown",
   "metadata": {},
   "source": [
    "and the _height over the water surface_ together with its uncertainty (see _fig (4)_ of the laboratory manual for a more intuitive description of the previous variables) :"
   ]
  },
  {
   "cell_type": "code",
   "execution_count": null,
   "metadata": {},
   "outputs": [],
   "source": [
    "H_wat =  # Height of the water surface level over the center of the capillary tube in m \n",
    "Delta_H =  # Uncertainty on the Height measure in m"
   ]
  },
  {
   "cell_type": "markdown",
   "metadata": {},
   "source": [
    "To conclude, we just have to report the _time intervals_ $\\Delta t$ required to fulfill each _volume_ $\\Delta V$ in order to fit the slope using a linear regression, as done in the previous task.<br>\n",
    "Both the values will be saved in an array as follows :"
   ]
  },
  {
   "cell_type": "code",
   "execution_count": null,
   "metadata": {},
   "outputs": [],
   "source": [
    "V    =    np.array([  ,  ,  ,  ]) # Measured volume of the measuring glasses in litres\n",
    "DeltaV  = np.array([  ,  ,  ,  ]) # Uncertainties on the volume glasses in litres\n",
    "Time   =  np.array([  ,  ,  ,  ]) # Time interval needed to fullfill the measuring glass in s"
   ]
  },
  {
   "cell_type": "markdown",
   "metadata": {},
   "source": [
    "<h3> Data Processing </h3>"
   ]
  },
  {
   "cell_type": "markdown",
   "metadata": {},
   "source": [
    "In this section, the given inputs will be processed by the notebook in order to estimate the variables needed for the determination of the final outputs of the task. <br>\n",
    "Let's start by saving the main inputs in a dataframe :"
   ]
  },
  {
   "cell_type": "code",
   "execution_count": null,
   "metadata": {},
   "outputs": [],
   "source": [
    "d = {'Time': Time, 'V' : V, 'DeltaV' : DeltaV}\n",
    "Data = pd.DataFrame(data = d)"
   ]
  },
  {
   "cell_type": "markdown",
   "metadata": {},
   "source": [
    "The final dataframe has the following shape :"
   ]
  },
  {
   "cell_type": "code",
   "execution_count": null,
   "metadata": {},
   "outputs": [],
   "source": [
    "Data"
   ]
  },
  {
   "cell_type": "markdown",
   "metadata": {},
   "source": [
    "As done for _task 1_ , we may now apply a [Linear Regression](https://scikit-learn.org/stable/modules/generated/sklearn.linear_model.LinearRegression.html) to the dataset in order to predict the slope of the linear fit :"
   ]
  },
  {
   "cell_type": "code",
   "execution_count": null,
   "metadata": {},
   "outputs": [],
   "source": [
    "#Let's start by reshaping the arrays in order to be processed by the regression function\n",
    "\n",
    "Dt = Data.iloc[:, 0].values.reshape(-1, 1)  # reshaping the values of time\n",
    "DV = Data.iloc[:, 1].values.reshape(-1, 1)  # reshaping the values of Volume\n",
    "\n",
    "# We may finally proceed with the linear fit\n",
    "\n",
    "lin_reg = LinearRegression() # Just creating the object that will hold the informations of the linear regression\n",
    "lin_reg.fit(Dt,DV) # Perform the linear regression\n",
    "Data['Pred_V'] = lin_reg.predict(Dt) # Saving to the dataframe the predicted values of x given the linear model"
   ]
  },
  {
   "cell_type": "markdown",
   "metadata": {},
   "source": [
    "Here we show a comparison between the measured points and the fit function used to interpolate them :\n"
   ]
  },
  {
   "cell_type": "code",
   "execution_count": null,
   "metadata": {},
   "outputs": [],
   "source": [
    "plt.figure(figsize=(12,8))\n",
    "plt.scatter(Data.Time, Data.V, s=20, color = 'black', label = 'Experimental points') # Plotting the measured datapoint\n",
    "plt.plot(Data.Time, Data.Pred_V, color = 'crimson', label = 'Fit Function') # Plotting the fitted function of the points\n",
    "plt.errorbar(Data.Time, Data.V, yerr=Data.DeltaV, fmt='.k') # Plotting the errors on the measurations of the volume\n",
    "plt.xlim(0, Time[-1]+5) # Automatically setting the range of the x axis\n",
    "plt.ylim(0,V[-1]+0.01) # Automatically setting the range of the y axis\n",
    "plt.xlabel('$Time \\quad [s]$')\n",
    "plt.ylabel('$Volume \\quad [l] $')\n",
    "plt.legend(loc = 2)\n"
   ]
  },
  {
   "cell_type": "markdown",
   "metadata": {},
   "source": [
    "The slope and the intercept of the fitted linear model can be obtain by:"
   ]
  },
  {
   "cell_type": "code",
   "execution_count": null,
   "metadata": {},
   "outputs": [],
   "source": [
    "x_0 = lin_reg.intercept_   # Getting the value of the intercept of the fitted linear model\n",
    "m = lin_reg.coef_          # Getting the value of the slope of the fitted linear model\n",
    "RMSE = np.sqrt(metrics.mean_squared_error(Data.V,Data.Pred_V))\n"
   ]
  },
  {
   "cell_type": "markdown",
   "metadata": {},
   "source": [
    "and we know that the value $\\dot{V}$ is equal to the measured slope, hence :"
   ]
  },
  {
   "cell_type": "code",
   "execution_count": null,
   "metadata": {},
   "outputs": [],
   "source": [
    "V_dot = m # Value of the time derivative of V in l/s\n",
    "V_dot *= 10**(-3) # Value of the time derivative of V in m^3 /s\n",
    "Delta_Vdot = RMSE*(10**(-3)) # Value of the uncertainty in m^3 /s\n",
    "print('The obtained value for the time derivative of the Volume is ',float(V_dot),' +- ',float(Delta_Vdot),' [m^3 /s]')"
   ]
  },
  {
   "cell_type": "markdown",
   "metadata": {},
   "source": [
    "Give the value of $\\dot{V}$, we may now use equation _(6)_ to estimate the _viscosity coefficient_ $\\mu$, we have : <br>\n",
    "<br>\n",
    "$\\large \\mu = \\frac{\\pi R^4 \\Delta P}{\\dot{V}8L},$\n",
    "<br>\n",
    "<br>\n",
    "where $R$ is the _radius_ of the capillary tube, reported in the laboratory manual. $\\Delta P$ is the _pressure difference_  as $\\Delta P = \\rho g h$, and $L$ is the _lenght_ of the capillary tube. <br>\n",
    "Defining the missing variables in the code, we obtain :"
   ]
  },
  {
   "cell_type": "code",
   "execution_count": null,
   "metadata": {},
   "outputs": [],
   "source": [
    "Rho = 1e3 # Density of the water in kg/m^3\n",
    "Radius = 0.6e-3 # Value of the radius of the capillary tube in m\n",
    "Delta_R = 0.5e-5 # Uncertainty on the radius taken from the lab notes\n",
    "g = 9.82 # Gravitational accelleration in m/s^2\n",
    "Delta_P = Rho*g*H_wat # Difference of pressure in Pascals amond the surface and capillary\n",
    "\n",
    "mu = (np.pi*Delta_P*(Radius**4))/(V_dot*8*L_cap) # Estimating the viscosity coefficient in poise\n",
    "\n",
    "print('We obtained a viscosity coefficient equals to ',float(mu*1000),' [cp]')"
   ]
  },
  {
   "cell_type": "markdown",
   "metadata": {},
   "source": [
    "To conclude, we may finally estimate the _Reynolds number_ to check if the flow is laminar ! <br>\n",
    "This may be done using equation _(7)_, which read as : <br>\n",
    "<br>\n",
    "$\\large Re = \\frac{2 \\rho \\dot{V}}{\\pi \\mu R}$\n",
    "<br>\n",
    "<br>\n",
    "We get :"
   ]
  },
  {
   "cell_type": "code",
   "execution_count": null,
   "metadata": {},
   "outputs": [],
   "source": [
    "Re = (2*Rho*V_dot)/(np.pi*mu*Radius) # Estimating the Reynolds number\n",
    "print('The Reynold number during our experiment was equal to ',float(Re))\n",
    "if Re < 2300:\n",
    "    print('Being smaller than 2300, the regime of the flow is laminar !')\n",
    "else:\n",
    "    print('Being bigger than 2300, the regime of the flow is turbolent !')"
   ]
  },
  {
   "cell_type": "markdown",
   "metadata": {},
   "source": [
    "<h3> Summary and comments about the task </h3>"
   ]
  },
  {
   "cell_type": "markdown",
   "metadata": {},
   "source": [
    "<font color='red'>Please use this cell to summarize and write down all the comments about these task !</font>"
   ]
  },
  {
   "cell_type": "markdown",
   "metadata": {},
   "source": [
    "<h3> Questions about the Task </h3>"
   ]
  },
  {
   "cell_type": "markdown",
   "metadata": {},
   "source": [
    "<font color='red'>\n",
    "Answer to the following questions, you have to write between the < br > after each question !  \n",
    "</font>"
   ]
  },
  {
   "cell_type": "markdown",
   "metadata": {},
   "source": [
    "<font color='red'>\n",
    "1) Report the obtained value for the <em>plot derivative</em> $\\dot{V}$, <em>Pressure Difference</em> $\\Delta P$, <em>viscosity coefficient</em> $\\mu$ and <em>Reynolds number</em> $Re$ with the right number of significant figures, as well as their estimated uncertainty! \n",
    "<br>\n",
    "<h4>Note : </h4> The uncertainty on the linearly fitted variable is reported after the linear fit in the notebook ! <br>\n",
    "    The others may be estimated manually using the Propagation of Uncertainty<br>\n",
    "<br>  \n",
    "<br>\n",
    "$\\dot{V} =$\n",
    "<br>\n",
    "$\\Delta P =$\n",
    "<br>\n",
    "$\\mu =$\n",
    "<br>\n",
    "$Re =$\n",
    "<br>\n",
    "    \n",
    "</font>\n",
    "<em>"
   ]
  },
  {
   "cell_type": "markdown",
   "metadata": {},
   "source": [
    "<font color='red'>\n",
    "2) Try to replace the value of the <em> capillar lenght </em> with $L_{cap} =  5m$. <br>\n",
    "Assuming that all the other values remain the same experimental values measured, rerun the notebook to determine what's the reynold number in this setup !<br>\n",
    "Is the flow now laminar or turbulent?\n",
    "    \n",
    "<br>\n",
    "<h4>Note : </h4>Remember to restore the measured values in the notebook after this test run !\n",
    "<br>  \n",
    "\n",
    "<br>\n",
    "<br>\n",
    "$Re_{New}=$\n",
    "<br>\n",
    "The flow is Laminar/Turbolent\n",
    "<br>\n",
    "</font>"
   ]
  },
  {
   "cell_type": "markdown",
   "metadata": {},
   "source": [
    "------------------------------------------------------------------------------------------------------------------"
   ]
  },
  {
   "cell_type": "markdown",
   "metadata": {},
   "source": [
    "<h2> Task 3 - Bernoulli's equation </h2>"
   ]
  },
  {
   "cell_type": "markdown",
   "metadata": {},
   "source": [
    "<font color='red'>Please use this cell to describe in few words the task!</font>"
   ]
  },
  {
   "cell_type": "markdown",
   "metadata": {},
   "source": [
    "**Setup Number** : <br>"
   ]
  },
  {
   "cell_type": "markdown",
   "metadata": {},
   "source": [
    "<h3> Measured data for the task  </h3>"
   ]
  },
  {
   "cell_type": "markdown",
   "metadata": {},
   "source": [
    "In this section, you need to report all the values coming from the laboratory measurements.\n",
    "The measured values will be asked in the SI units system, even though most of them will be measured in a more appropriate multiple of the asked unit of measure. Consider this part as a good test for your skills in units conversion! <br>\n",
    "It is highly reccomended to report the unit of measure using the exponential notation of python, in order to not generate messy inputs in the next cells and keep an appropriate precision in relation of the measures done, in particular, we may express numbers in exponential notations as follows :\n",
    "<br>\n",
    "<br>\n",
    "$\\large 0.0357 \\rightarrow 3.57e-2$\n",
    "<br>\n",
    "$\\large 0.4588 \\rightarrow 4.588e-1 \\; = \\; 45.88e-2$"
   ]
  },
  {
   "cell_type": "markdown",
   "metadata": {},
   "source": [
    "First of all, we will need the _water flow_ that may be read from the VA-meter :"
   ]
  },
  {
   "cell_type": "code",
   "execution_count": null,
   "metadata": {},
   "outputs": [],
   "source": [
    "V_dot =  # Value of the water flow in m^3/s"
   ]
  },
  {
   "cell_type": "markdown",
   "metadata": {},
   "source": [
    "We will now need to input some of the experiment values at the 6 given points, in particular we will need the _diameters of the sections_ $d$ (check the lab manual for them), the measured _piezometric height_ $h$ and the _total height_ $H_{exp}$ for each of them : "
   ]
  },
  {
   "cell_type": "code",
   "execution_count": null,
   "metadata": {},
   "outputs": [],
   "source": [
    "N   =   np.array( [        ,        ,        ,        ,        ,        ] ) # identificative numbers of the sections\n",
    "D   =   np.array( [        ,        ,        ,        ,        ,        ] ) # diameters in m of the cross-sections\n",
    "h   =   np.array( [        ,        ,        ,        ,        ,        ] ) # measured heights in m of the water columns in the sections\n",
    "H_exp = np.array( [        ,        ,        ,        ,        ,        ] ) # measured value of H_exp in the sections in m\n"
   ]
  },
  {
   "cell_type": "markdown",
   "metadata": {},
   "source": [
    "<h3> Data Processing </h3>"
   ]
  },
  {
   "cell_type": "markdown",
   "metadata": {},
   "source": [
    "In this section, the given inputs will be processed by the notebook in order to estimate the variables needed for the determination of the final outputs of the task. <br>\n",
    "Let's start by saving the main inputs in a dataframe :"
   ]
  },
  {
   "cell_type": "code",
   "execution_count": null,
   "metadata": {},
   "outputs": [],
   "source": [
    "d = {'N' : N, 'Diameters' : D, 'h' : h, 'H_exp' : H_exp }\n",
    "Data = pd.DataFrame(data = d)"
   ]
  },
  {
   "cell_type": "markdown",
   "metadata": {},
   "source": [
    "The final dataframe has the following shape :"
   ]
  },
  {
   "cell_type": "code",
   "execution_count": null,
   "metadata": {},
   "outputs": [],
   "source": [
    "Data"
   ]
  },
  {
   "cell_type": "markdown",
   "metadata": {},
   "source": [
    "The flow speed in each section may now be estimated using the following equation taken from the laboratory manual : <br>\n",
    "<br>\n",
    "$\\large \\dot{V} = \\frac{\\pi}{4} v D^2 \\quad \\Rightarrow \\quad v = \\frac{4 \\dot{V}}{\\pi D^2}.$\n",
    "<br>\n",
    "<br>\n",
    "We get :"
   ]
  },
  {
   "cell_type": "code",
   "execution_count": null,
   "metadata": {
    "scrolled": true
   },
   "outputs": [],
   "source": [
    "Data['v'] = (4*V_dot)/(np.pi*(Data.Diameters**2)) # Computing the speed in each section of the pipe in m/s\n",
    "Data['v^2/2g'] = (Data['v']**2)/(2*g)  # Computing the dynamic height in each section of the pipe in m"
   ]
  },
  {
   "cell_type": "markdown",
   "metadata": {},
   "source": [
    "We may finally estimate the _theoretical total height_ $H_{theo}$ using the equation :\n",
    "<br>\n",
    "<br>\n",
    "$\\large H_{theo} = \\frac{v^2}{2g} + h,$\n",
    "<br>\n",
    "<br>\n",
    "obtaining the following results for the final dataframe :"
   ]
  },
  {
   "cell_type": "code",
   "execution_count": null,
   "metadata": {},
   "outputs": [],
   "source": [
    "Data['H_theo'] = Data['v^2/2g'] + Data['h'] # Estimating the theoretical value for the total H, the factor 1000 comes from a normalization of the units of measure\n",
    "Data"
   ]
  },
  {
   "cell_type": "markdown",
   "metadata": {},
   "source": [
    "The obtained results, will now be plotted in a histogram !"
   ]
  },
  {
   "cell_type": "code",
   "execution_count": null,
   "metadata": {},
   "outputs": [],
   "source": [
    "fig = plt.figure(figsize=(12,8))\n",
    "ax = plt.subplot(111)\n",
    "w = 0.25\n",
    "ax.bar(Data.N - w/2, Data.H_exp, width=w, color='gold', label = 'Measured value of H', align='center')\n",
    "ax.bar(Data.N + w/2, Data.H_theo, width=w, color='navy', label = 'Theoretical value of H', align='center')\n",
    "plt.xlim(0,7)\n",
    "plt.ylim(0,0.3)\n",
    "plt.xlabel('Cross Section point', fontsize = 15 )\n",
    "plt.legend(loc = 1)\n",
    "plt.ylabel('Total Height $H \\; [m]$', fontsize = 15)"
   ]
  },
  {
   "cell_type": "markdown",
   "metadata": {},
   "source": [
    "<h3> Summary and comments about the task </h3>"
   ]
  },
  {
   "cell_type": "markdown",
   "metadata": {},
   "source": [
    "<font color='red'>Please use this cell to summarize and write down all the comments about these task !</font>"
   ]
  },
  {
   "cell_type": "markdown",
   "metadata": {},
   "source": [
    "<h3> Questions about the Task </h3>"
   ]
  },
  {
   "cell_type": "markdown",
   "metadata": {},
   "source": [
    "<font color='red'>\n",
    "Answer to the following questions, you have to write between the < br > after each question !  \n",
    "</font>"
   ]
  },
  {
   "cell_type": "markdown",
   "metadata": {},
   "source": [
    "<font color='red'>\n",
    "1) Estimate the percentual variation among estimated value and real value for the <em>Total Height</em> $H_n$ at each measurement Position $n$ and report them ! <br>\n",
    "Describe the evolution of the $\\Delta H_{i \\%}$ and try to explain the reason that lead to its behaviour !\n",
    "\n",
    "<br>\n",
    "<br>\n",
    "$\\Delta H_{1 \\%} =$\n",
    "<br>\n",
    "$\\Delta H_{2 \\%} =$\n",
    "<br>\n",
    "$\\Delta H_{3 \\%} =$\n",
    "<br>\n",
    "$\\Delta H_{4 \\%} =$\n",
    "<br>\n",
    "$\\Delta H_{5 \\%} =$\n",
    "<br>\n",
    "$\\Delta H_{6 \\%} =$\n",
    "<br>\n",
    "    \n",
    "Why the $\\Delta H_{i \\%}$ behaves this way ?\n",
    "</font>"
   ]
  },
  {
   "cell_type": "markdown",
   "metadata": {},
   "source": [
    "<font color='red'>\n",
    "2) Assume to move your whole apparatus to the moon, where $g_{moon} = 1.625 m/s^2$. <br>\n",
    "   What would be the values obtained for the $H_{theo}$, assuming that all the others variables would remain \n",
    "   unchanged?\n",
    "\n",
    "<br>\n",
    "<br>\n",
    "$H_{moon1} =$\n",
    "<br>\n",
    "$H_{moon2} =$\n",
    "<br>\n",
    "$H_{moon3} =$\n",
    "<br>\n",
    "$H_{moon4} =$\n",
    "<br>\n",
    "$H_{moon5} =$\n",
    "<br>\n",
    "$H_{moon6} =$\n",
    "<br>\n",
    "</font>"
   ]
  },
  {
   "cell_type": "markdown",
   "metadata": {},
   "source": [
    "------------------------------------------------------------------------------------------------------------------"
   ]
  },
  {
   "cell_type": "markdown",
   "metadata": {},
   "source": [
    "<h2> Task 4 - Ideal gas and Boyle's law </h2>"
   ]
  },
  {
   "cell_type": "markdown",
   "metadata": {},
   "source": [
    "<font color='red'>Please use this cell to describe in few words the task!</font>"
   ]
  },
  {
   "cell_type": "markdown",
   "metadata": {},
   "source": [
    "**Setup Number** : <br>"
   ]
  },
  {
   "cell_type": "markdown",
   "metadata": {},
   "source": [
    "<h3> Measured data for the task  </h3>"
   ]
  },
  {
   "cell_type": "markdown",
   "metadata": {},
   "source": [
    "In this section, you need to report all the values coming from the laboratory measurements. <br>\n",
    "The measured values will be asked in the SI units system, even though most of them will be measured in a more appropriate multiple of the asked unit of measure. Consider this part as a good test for your skills in units conversion! <br>\n",
    "It is highly reccomended to report unit of measure using the exponential notation of python, in order to not generate messy inputs in the next cells and keep an appropriate precision in relation of the measures done, in particular, we may express numbers in exponential notations as follows :\n",
    "<br>\n",
    "<br>\n",
    "$\\large 0.0357 \\rightarrow 3.57e-2$\n",
    "<br>\n",
    "$\\large 0.4588 \\rightarrow 4.588e-1 \\; = \\; 45.88e-2$"
   ]
  },
  {
   "cell_type": "markdown",
   "metadata": {},
   "source": [
    "Let's start by reporting the _barometric pressure_ at the start of the experiment :"
   ]
  },
  {
   "cell_type": "code",
   "execution_count": null,
   "metadata": {},
   "outputs": [],
   "source": [
    "P_0 =  # Barometric Pressure at the start of the experiment in Pascal"
   ]
  },
  {
   "cell_type": "markdown",
   "metadata": {},
   "source": [
    "as well as the _air temperature_ at the start and at the end of the experiment :"
   ]
  },
  {
   "cell_type": "code",
   "execution_count": null,
   "metadata": {},
   "outputs": [],
   "source": [
    "T_start =  # Temperature of the air in Kelvin at the start of the experiment\n",
    "T_end =    # Temperature of the air in Kelvin at the end of the experiment"
   ]
  },
  {
   "cell_type": "markdown",
   "metadata": {},
   "source": [
    "Furthermore, we may read from the laboratory manual that the cylinder _diameter_ and _uncertainty_ are equals to :"
   ]
  },
  {
   "cell_type": "code",
   "execution_count": null,
   "metadata": {},
   "outputs": [],
   "source": [
    "D =  # Diameter of the cylinder in m\n",
    "Delta_D =  # Uncertainty on the cylinder diameter in m"
   ]
  },
  {
   "cell_type": "markdown",
   "metadata": {},
   "source": [
    "and finally, we report the _height_ $h$ of the air column as a function of the overpressure, to estimate the _volume_ $V$ of the latter inside the cylinder :"
   ]
  },
  {
   "cell_type": "code",
   "execution_count": null,
   "metadata": {},
   "outputs": [],
   "source": [
    "OP  =   np.array( [       ,      ,      ,      ,      ,        ] ) # Overpressure in Pascal inside the cylinder\n",
    "P   =   np.array( [       ,      ,      ,      ,      ,        ] ) # Pressure inside the cylinder at each step in Pa\n",
    "h   =   np.array( [       ,      ,      ,      ,      ,        ] ) # measured heights in m of the air column inside the cylinder"
   ]
  },
  {
   "cell_type": "markdown",
   "metadata": {},
   "source": [
    "<h3> Data Processing </h3>"
   ]
  },
  {
   "cell_type": "markdown",
   "metadata": {},
   "source": [
    "In this section, the given inputs will be processed by the notebook in order to estimate the variables needed for the determination of the final outputs of the task. <br>\n",
    "Let's start by saving the main inputs in a dataframe :"
   ]
  },
  {
   "cell_type": "code",
   "execution_count": null,
   "metadata": {},
   "outputs": [],
   "source": [
    "d = {'OverPressure' : OP, 'Pressure' : P, 'h' : h}\n",
    "Data = pd.DataFrame(data = d)"
   ]
  },
  {
   "cell_type": "markdown",
   "metadata": {},
   "source": [
    "The final dataframe has the following shape :"
   ]
  },
  {
   "cell_type": "code",
   "execution_count": null,
   "metadata": {},
   "outputs": [],
   "source": [
    "Data"
   ]
  },
  {
   "cell_type": "markdown",
   "metadata": {},
   "source": [
    "The _volume_ of the cylinder, given its diameter, may be easily estimated using the formula :\n",
    "<br>\n",
    "<br>\n",
    "$\\large V = \\frac{\\pi}{4}hD^2 ,$\n",
    "<br>\n",
    "<br>\n",
    "which may be easily implemented in the code as :"
   ]
  },
  {
   "cell_type": "code",
   "execution_count": null,
   "metadata": {},
   "outputs": [],
   "source": [
    "Data['V'] = (np.pi*h*D**2)/(4)  # Estimated volume of the air cylinder in m^3\n",
    "Data['1/V'] = 1./Data['V']  # Inverse volume in 1/m^3"
   ]
  },
  {
   "cell_type": "markdown",
   "metadata": {},
   "source": [
    "obtaining the following results :"
   ]
  },
  {
   "cell_type": "code",
   "execution_count": null,
   "metadata": {},
   "outputs": [],
   "source": [
    "Data"
   ]
  },
  {
   "cell_type": "markdown",
   "metadata": {},
   "source": [
    "To conclude, we may verify that the product $PV$ is almost constant during all the steps of the experiment. We have :"
   ]
  },
  {
   "cell_type": "code",
   "execution_count": null,
   "metadata": {},
   "outputs": [],
   "source": [
    "Data['PV'] = Data['V']*Data['Pressure'] # Obtained value for PV, that's supposed to be constant during the evolution\n",
    "Data"
   ]
  },
  {
   "cell_type": "markdown",
   "metadata": {},
   "source": [
    "and plot the _pressure_ $P$ as a function of the _inverse volume_ $1/V$, in order to verify that a linear relation subsist among them :"
   ]
  },
  {
   "cell_type": "code",
   "execution_count": null,
   "metadata": {},
   "outputs": [],
   "source": [
    "plt.figure(figsize=(12,8))\n",
    "plt.plot(Data['1/V'], Data.Pressure/1000., color = 'navy', label = 'Interpolating line') # Plotting a line passing through each experimental point\n",
    "plt.scatter(Data['1/V'], Data.Pressure/1000., color = 'black', label = 'Experimental Points')\n",
    "plt.autoscale() # Automatically setting the range of the x and y axis\n",
    "plt.xlabel('$1/V \\quad [m^{-3}]$')\n",
    "plt.ylabel('$P \\quad [KPa] $')\n",
    "plt.legend(loc = 2)"
   ]
  },
  {
   "cell_type": "markdown",
   "metadata": {},
   "source": [
    "<h3> Summary and comments about the task </h3>"
   ]
  },
  {
   "cell_type": "markdown",
   "metadata": {},
   "source": [
    "<font color='red'>Please use this cell to summarize and write down all the comments about these task !</font>"
   ]
  },
  {
   "cell_type": "markdown",
   "metadata": {},
   "source": [
    "<h3> Questions about the Task </h3>"
   ]
  },
  {
   "cell_type": "markdown",
   "metadata": {},
   "source": [
    "<font color='red'>\n",
    "Answer to the following questions, you have to write between the < br > after each question !  \n",
    "</font>"
   ]
  },
  {
   "cell_type": "markdown",
   "metadata": {},
   "source": [
    "<font color='red'>\n",
    "1) Estimate the percentual variation among the temperature $T$ at the start of the experiment and report that !\n",
    "    \n",
    "Then estimate the percentual variation among the estimated $PV_0$ at the start of the experiment and the $PV_{i-0}$ at each step $i$ and report that !\n",
    "Compare the percentual variation $\\Delta PV_{5-0 \\%} $ with the percentual variation on the temperature among start and end of the experiment $\\Delta T_{\\%}$ :\n",
    "<br>\n",
    "<br>\n",
    "$\\Delta T_{\\%} =$\n",
    "<br>\n",
    "$\\Delta PV_{1-0 \\%} =$\n",
    "<br>\n",
    "$\\Delta PV_{2-0 \\%} =$\n",
    "<br>\n",
    "$\\Delta PV_{3-0 \\%} =$\n",
    "<br>\n",
    "$\\Delta PV_{4-0 \\%} =$\n",
    "<br>\n",
    "$\\Delta PV_{5-0 \\%} =$\n",
    "<br>\n",
    "$\\Delta T_{\\%} / \\Delta PV_{5-0 \\%}  =$\n",
    "<br>\n",
    "How do they Compare ?\n",
    "    \n",
    "<br>\n",
    "<h4>Note : </h4>If $\\Delta PV_{5-0 \\%} = 0$ please avoid estimating the term $\\Delta T_{\\%} / \\Delta PV_{5-0 \\%}$ ! <br>\n",
    "    The reason why is better to avoid that calculation should be obvious !\n",
    "<br>      \n",
    "</font>"
   ]
  },
  {
   "cell_type": "markdown",
   "metadata": {},
   "source": [
    "<font color='red'>\n",
    "2) We know that the diameter of the cylinder has an uncertainty equal to $\\Delta D = 0.1 cm$.\n",
    "   Assuming that the measure on the height of the gas column has got no uncertainty, estimate the error on the    \n",
    "   volume $\\Delta V_i$ at each step of the task given the measured height !\n",
    "    \n",
    "<br>\n",
    "<br>\n",
    "$\\Delta V_0 =$\n",
    "<br>\n",
    "$\\Delta V_1 =$\n",
    "<br>\n",
    "$\\Delta V_2 =$\n",
    "<br>\n",
    "$\\Delta V_3 =$\n",
    "<br>\n",
    "$\\Delta V_4 =$\n",
    "<br>\n",
    "$\\Delta V_5 =$"
   ]
  },
  {
   "cell_type": "markdown",
   "metadata": {},
   "source": [
    "<font color='red'>\n",
    "3) Assume to have error only on the measure of the <em>atmospheric pressure</em> $P_0$ in the room, while the measures on the overpressure from the two cylinders has got no error (infinite precision). <br>\n",
    "Assume now to do a linear interpolation of $P(1/V)$ with no uncertainty in the value of $V$. <br>\n",
    "Will the error on the measure of the <em>atmospheric pressure</em> $P_0$ affect the <em>coefficient</em> $m$ of the linear interpolation? <br>\n",
    "Will it affect the <em>intercept</em> value $x_0$? <br>\n",
    "Motivate your answers !\n",
    "</font>"
   ]
  },
  {
   "cell_type": "markdown",
   "metadata": {},
   "source": [
    "------------------------------------------------------------------------------------------------------------------"
   ]
  }
 ],
 "metadata": {
  "kernelspec": {
   "display_name": "Python 3",
   "language": "python",
   "name": "python3"
  },
  "language_info": {
   "codemirror_mode": {
    "name": "ipython",
    "version": 3
   },
   "file_extension": ".py",
   "mimetype": "text/x-python",
   "name": "python",
   "nbconvert_exporter": "python",
   "pygments_lexer": "ipython3",
   "version": "3.7.6"
  }
 },
 "nbformat": 4,
 "nbformat_minor": 4
}
